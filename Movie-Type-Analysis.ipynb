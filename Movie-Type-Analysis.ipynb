{
 "cells": [
  {
   "cell_type": "markdown",
   "id": "dcf68d68",
   "metadata": {},
   "source": [
    "# Movie Type Analysis"
   ]
  },
  {
   "cell_type": "markdown",
   "id": "910865b0",
   "metadata": {},
   "source": [
    "## Overview"
   ]
  },
  {
   "cell_type": "markdown",
   "id": "5749a9ca",
   "metadata": {},
   "source": [
    "Virtucon has decided to enter the movie production business. The company needs to gain knowledge about which type of film does best at the box office.  We also tried to shed some light on less obvious area of the movie production process to give our studio a helping had in success.\n",
    "\n",
    "To answer these queries we've gather data from 5 data sets with over 70K movies. We've focused on 1100, for which all data was available. These movies were produced from 2010 to 2018 and covered 29 genres.\n",
    "\n",
    "Our analysis shows that the most profitable movies are of the genre Action and Adventure, with sub genres of Science Fition & Fantasy, or Mystery and Suspence. An honarable metion should go to the genre Animation, Comedy, Kids & Family which landed 3 films in the top 15. An analysis of movie runtimes show that movies which run 120 minutes have the highest audience ratings."
   ]
  },
  {
   "cell_type": "markdown",
   "id": "491199b6",
   "metadata": {},
   "source": [
    "## Business Problem\n",
    "\n",
    "Virtucon wants to produce movies but doesn't know which kind of movie does best at the box office. We've analyzed movie reviews, production costs, proffits, and even critics reviews to provide answers."
   ]
  },
  {
   "cell_type": "markdown",
   "id": "69ec81e6",
   "metadata": {
    "vscode": {
     "languageId": "plaintext"
    }
   },
   "source": [
    "## Data\n",
    "\n",
    "We used five data sets from four sources for our analysis. The Box Office Mojo dataset contains several sections reporting box office receipts by time period and area. The IMDB dataset inludes movies, TV and entertainment programs and cast and crew members. Rotten Tomato provded two datasets; movie data and critics' review data. Lastly we use The Numbers Movie Budget and Financial Performance Records dataset.\n"
   ]
  },
  {
   "cell_type": "markdown",
   "id": "ab50f565",
   "metadata": {},
   "source": [
    "### Data Cleaning and Preparation\n",
    "***"
   ]
  },
  {
   "cell_type": "code",
   "execution_count": 1,
   "id": "04e0ae67",
   "metadata": {},
   "outputs": [],
   "source": [
    "# Import the necessary modules\n",
    "\n",
    "import pandas as pd\n",
    "import matplotlib.pyplot as plt\n",
    "import seaborn as sns\n",
    "import numpy as np\n",
    "import sqlite3\n",
    "\n",
    "pd.set_option('display.max_columns', 50)\n",
    "pd.options.mode.copy_on_write = True"
   ]
  },
  {
   "cell_type": "markdown",
   "id": "21aa0f3e",
   "metadata": {},
   "source": [
    "### Import all data sets to Pandas"
   ]
  },
  {
   "cell_type": "code",
   "execution_count": 2,
   "id": "4023e8db",
   "metadata": {},
   "outputs": [],
   "source": [
    "# Connect to SQLite database\n",
    "conn = sqlite3.connect('zippedData/im.db')\n",
    "cursor = conn.cursor()"
   ]
  },
  {
   "cell_type": "code",
   "execution_count": 3,
   "id": "418d47ab",
   "metadata": {},
   "outputs": [],
   "source": [
    "# Select the columns we are interested in and create a DataFrame\n",
    "# from the movie_basics and movie_ratings tables\n",
    "\n",
    "q = \"\"\"\n",
    "SELECT mb.movie_id, mb.primary_title, mb.start_year, mb.runtime_minutes, mb.genres,\n",
    "       mr.averagerating, mr.numvotes\n",
    "FROM movie_basics as mb\n",
    "LEFT JOIN movie_ratings AS mr ON mb.movie_id = mr.movie_id;\n",
    "\"\"\"\n",
    "movie_df = pd.read_sql(q, conn)"
   ]
  },
  {
   "cell_type": "code",
   "execution_count": 4,
   "id": "b0911656",
   "metadata": {},
   "outputs": [],
   "source": [
    "# Read in the remaining CSV files into DataFrames\n",
    "# Note: The thousands parameter is used to convert strings with commas into integers\n",
    "\n",
    "bom_df = pd.read_csv(\"zippedData/bom.movie_gross.csv\", thousands=',')\n",
    "tn_df = pd.read_csv('zippedData/tn.movie_budgets.csv')\n",
    "rm_df = pd.read_csv('zippedData/rotten_tomatoes_movies.csv')\n",
    "rr_df = pd.read_csv('zippedData/rotten_tomatoes_critic_reviews.csv')"
   ]
  },
  {
   "cell_type": "markdown",
   "id": "226b1537",
   "metadata": {},
   "source": [
    "### Data Cleaning"
   ]
  },
  {
   "cell_type": "code",
   "execution_count": 5,
   "id": "a2a7e360",
   "metadata": {},
   "outputs": [],
   "source": [
    "# This data is very messy. Drop any duplicates in the DataFrames\n",
    "\n",
    "movie_df = movie_df.drop_duplicates()\n",
    "bom_df = bom_df.drop_duplicates()"
   ]
  },
  {
   "cell_type": "code",
   "execution_count": 6,
   "id": "3b26378c",
   "metadata": {},
   "outputs": [],
   "source": [
    "# Drop the few rows where there is obviously error in year\n",
    "\n",
    "movie_df = movie_df[movie_df['start_year'] <= 2026]"
   ]
  },
  {
   "cell_type": "code",
   "execution_count": 7,
   "id": "07075370",
   "metadata": {},
   "outputs": [],
   "source": [
    "# Drop columns that are not needed in the DataFrame\n",
    "\n",
    "rm_df.drop(['directors', 'authors', 'actors', 'streaming_release_date','tomatometer_top_critics_count', \n",
    "            'tomatometer_fresh_critics_count', 'tomatometer_rotten_critics_count', \n",
    "            'tomatometer_rotten_critics_count', 'tomatometer_rotten_critics_count', 'tomatometer_count'], axis=1, inplace=True)"
   ]
  },
  {
   "cell_type": "code",
   "execution_count": 8,
   "id": "6bece549",
   "metadata": {},
   "outputs": [],
   "source": [
    "# These values are strings but we need them to be integers for analysis\n",
    "\n",
    "tn_df['domestic_gross'] = tn_df['domestic_gross'].astype(str)\n",
    "tn_df['worldwide_gross'] = tn_df['worldwide_gross'].astype(str)\n",
    "tn_df['production_budget'] = tn_df['production_budget'].astype(str)\n",
    "\n",
    "tn_df['domestic_gross'] = tn_df['domestic_gross'].str.replace('[$,]', '', regex=True)\n",
    "tn_df['worldwide_gross'] = tn_df['worldwide_gross'].str.replace('[$,]', '', regex=True)\n",
    "tn_df['production_budget'] = tn_df['production_budget'].str.replace('[$,]', '', regex=True)\n",
    "\n",
    "tn_df['domestic_gross'] = pd.to_numeric(tn_df['domestic_gross'])\n",
    "tn_df['worldwide_gross'] = pd.to_numeric(tn_df['worldwide_gross'])\n",
    "tn_df['production_budget'] = pd.to_numeric(tn_df['production_budget'])"
   ]
  },
  {
   "cell_type": "code",
   "execution_count": 9,
   "id": "93021f84",
   "metadata": {},
   "outputs": [],
   "source": [
    "# Drop NAs\n",
    "rr_df = rr_df.replace(to_replace='NaN', value=np.nan)\n",
    "rr_df = rr_df.replace(to_replace='nan', value=np.nan)\n",
    "rr_df = rr_df.dropna(subset=['review_date'])"
   ]
  },
  {
   "cell_type": "code",
   "execution_count": 10,
   "id": "6a28cd1e",
   "metadata": {},
   "outputs": [],
   "source": [
    "rr_df['review_score'] = rr_df['review_score'].astype(str)"
   ]
  },
  {
   "cell_type": "markdown",
   "id": "aab01cc9",
   "metadata": {},
   "source": [
    "## Methods\n",
    "\n",
    "The biggest hurdle in this project was the poor quality of the data. Each of the five datasets was quite disorganized, so we had to spend extra time cleaning them up. Since each dataset contained important information, we decided to combine them into one large set. During this process, we removed any duplicate or unnecessary information. Next, we figured out the profit for each film by subtracting its production costs from its total earnings. We then ranked the movies by profit within each genre to identify the most profitable genres. To figure out the ideal movie length, we looked at user ratings and calculated the average runtime of the highest-rated movies. Finally, finding the publication with the best reviews was tricky because different publications used different scoring systems. We first converted all the review scores to a common scale. Once the scores were consistent, we could calculate the average review score for each publication."
   ]
  },
  {
   "cell_type": "markdown",
   "id": "a14aa575",
   "metadata": {},
   "source": [
    "### Data Processing"
   ]
  },
  {
   "cell_type": "code",
   "execution_count": 11,
   "id": "ca84d74e",
   "metadata": {},
   "outputs": [],
   "source": [
    "# Merge the Box Office Movies and IMDB into one DataFrame\n",
    "\n",
    "bom_movie_rt = pd.merge(bom_df, rm_df, left_on='title', right_on='movie_title', how='inner')\n",
    "bom_movie_rt = bom_movie_rt.drop_duplicates(subset=['title', 'year'], keep='first')"
   ]
  },
  {
   "cell_type": "code",
   "execution_count": 12,
   "id": "fbd5392b",
   "metadata": {},
   "outputs": [],
   "source": [
    "# Create feature column for worldwide_profit\n",
    "\n",
    "tn_df['domestic_profit'] = tn_df['domestic_gross'] - tn_df['production_budget']\n",
    "tn_df['worldwide_profit'] = tn_df['worldwide_gross'] - tn_df['production_budget']"
   ]
  },
  {
   "cell_type": "code",
   "execution_count": 13,
   "id": "7cd47acc",
   "metadata": {},
   "outputs": [],
   "source": [
    "# Merge our main dataset with The Numbers dataset\n",
    "\n",
    "bmrt_df = pd.merge(bom_movie_rt, tn_df, left_on='title', right_on='movie', how='inner')"
   ]
  },
  {
   "cell_type": "code",
   "execution_count": 14,
   "id": "6f3b8e24",
   "metadata": {},
   "outputs": [],
   "source": [
    "# Drop more redundant columns\n",
    "\n",
    "bmrt_df.drop(['studio', 'movie_title', 'original_release_date', \n",
    "            'production_company', 'release_date', 'movie', 'domestic_gross_x'], axis=1, inplace=True)"
   ]
  },
  {
   "cell_type": "code",
   "execution_count": 15,
   "id": "8c6b614d",
   "metadata": {},
   "outputs": [],
   "source": [
    "#bmrt_sorted = bmrt_df.sort_values(by=['worldwide_profit'], ascending=[False])\n",
    "#bmrt_sorted[0:15] "
   ]
  },
  {
   "cell_type": "code",
   "execution_count": 16,
   "id": "c6341410",
   "metadata": {},
   "outputs": [
    {
     "data": {
      "text/html": [
       "<div>\n",
       "<style scoped>\n",
       "    .dataframe tbody tr th:only-of-type {\n",
       "        vertical-align: middle;\n",
       "    }\n",
       "\n",
       "    .dataframe tbody tr th {\n",
       "        vertical-align: top;\n",
       "    }\n",
       "\n",
       "    .dataframe thead th {\n",
       "        text-align: right;\n",
       "    }\n",
       "</style>\n",
       "<table border=\"1\" class=\"dataframe\">\n",
       "  <thead>\n",
       "    <tr style=\"text-align: right;\">\n",
       "      <th></th>\n",
       "      <th>genres</th>\n",
       "      <th>worldwide_profit</th>\n",
       "    </tr>\n",
       "  </thead>\n",
       "  <tbody>\n",
       "    <tr>\n",
       "      <th>7</th>\n",
       "      <td>Action &amp; Adventure, Animation, Drama, Kids &amp; F...</td>\n",
       "      <td>$671,133,378.00</td>\n",
       "    </tr>\n",
       "    <tr>\n",
       "      <th>86</th>\n",
       "      <td>Classics, Comedy, Drama, Romance</td>\n",
       "      <td>$662,457,969.00</td>\n",
       "    </tr>\n",
       "    <tr>\n",
       "      <th>69</th>\n",
       "      <td>Animation, Comedy, Musical &amp; Performing Arts</td>\n",
       "      <td>$559,454,789.00</td>\n",
       "    </tr>\n",
       "    <tr>\n",
       "      <th>166</th>\n",
       "      <td>Romance</td>\n",
       "      <td>$530,998,101.00</td>\n",
       "    </tr>\n",
       "    <tr>\n",
       "      <th>61</th>\n",
       "      <td>Animation</td>\n",
       "      <td>$529,438,211.00</td>\n",
       "    </tr>\n",
       "    <tr>\n",
       "      <th>...</th>\n",
       "      <td>...</td>\n",
       "      <td>...</td>\n",
       "    </tr>\n",
       "    <tr>\n",
       "      <th>14</th>\n",
       "      <td>Action &amp; Adventure, Art House &amp; International,...</td>\n",
       "      <td>$-31,007,708.00</td>\n",
       "    </tr>\n",
       "    <tr>\n",
       "      <th>17</th>\n",
       "      <td>Action &amp; Adventure, Art House &amp; International,...</td>\n",
       "      <td>$-33,485,675.00</td>\n",
       "    </tr>\n",
       "    <tr>\n",
       "      <th>37</th>\n",
       "      <td>Action &amp; Adventure, Drama, Horror, Western</td>\n",
       "      <td>$-35,977,304.00</td>\n",
       "    </tr>\n",
       "    <tr>\n",
       "      <th>6</th>\n",
       "      <td>Action &amp; Adventure, Animation, Comedy, Science...</td>\n",
       "      <td>$-38,146,816.00</td>\n",
       "    </tr>\n",
       "    <tr>\n",
       "      <th>81</th>\n",
       "      <td>Art House &amp; International, Drama, Science Fict...</td>\n",
       "      <td>$-46,477,746.00</td>\n",
       "    </tr>\n",
       "  </tbody>\n",
       "</table>\n",
       "<p>170 rows × 2 columns</p>\n",
       "</div>"
      ],
      "text/plain": [
       "                                                genres worldwide_profit\n",
       "7    Action & Adventure, Animation, Drama, Kids & F...  $671,133,378.00\n",
       "86                    Classics, Comedy, Drama, Romance  $662,457,969.00\n",
       "69        Animation, Comedy, Musical & Performing Arts  $559,454,789.00\n",
       "166                                            Romance  $530,998,101.00\n",
       "61                                           Animation  $529,438,211.00\n",
       "..                                                 ...              ...\n",
       "14   Action & Adventure, Art House & International,...  $-31,007,708.00\n",
       "17   Action & Adventure, Art House & International,...  $-33,485,675.00\n",
       "37          Action & Adventure, Drama, Horror, Western  $-35,977,304.00\n",
       "6    Action & Adventure, Animation, Comedy, Science...  $-38,146,816.00\n",
       "81   Art House & International, Drama, Science Fict...  $-46,477,746.00\n",
       "\n",
       "[170 rows x 2 columns]"
      ]
     },
     "execution_count": 16,
     "metadata": {},
     "output_type": "execute_result"
    }
   ],
   "source": [
    "# Group by genres and calculate the average worldwide profit\n",
    "# and sort the results in descending order\n",
    "\n",
    "average_genre_profit = bmrt_df.groupby('genres')['worldwide_profit'].mean()\n",
    "average_genre_profit = average_genre_profit.reset_index()\n",
    "average_genre_profit = average_genre_profit.sort_values(by='worldwide_profit', ascending=False)\n",
    "average_genre_profit['worldwide_profit'] = average_genre_profit['worldwide_profit'].map('${:,.2f}'.format)\n",
    "average_genre_profit"
   ]
  },
  {
   "cell_type": "code",
   "execution_count": 17,
   "id": "7ee4af7d",
   "metadata": {},
   "outputs": [
    {
     "data": {
      "text/html": [
       "<div>\n",
       "<style scoped>\n",
       "    .dataframe tbody tr th:only-of-type {\n",
       "        vertical-align: middle;\n",
       "    }\n",
       "\n",
       "    .dataframe tbody tr th {\n",
       "        vertical-align: top;\n",
       "    }\n",
       "\n",
       "    .dataframe thead th {\n",
       "        text-align: right;\n",
       "    }\n",
       "</style>\n",
       "<table border=\"1\" class=\"dataframe\">\n",
       "  <thead>\n",
       "    <tr style=\"text-align: right;\">\n",
       "      <th></th>\n",
       "      <th>audience_rating</th>\n",
       "      <th>runtime</th>\n",
       "    </tr>\n",
       "  </thead>\n",
       "  <tbody>\n",
       "    <tr>\n",
       "      <th>79</th>\n",
       "      <td>94.0</td>\n",
       "      <td>107.500000</td>\n",
       "    </tr>\n",
       "    <tr>\n",
       "      <th>78</th>\n",
       "      <td>93.0</td>\n",
       "      <td>124.333333</td>\n",
       "    </tr>\n",
       "    <tr>\n",
       "      <th>77</th>\n",
       "      <td>92.0</td>\n",
       "      <td>125.750000</td>\n",
       "    </tr>\n",
       "    <tr>\n",
       "      <th>76</th>\n",
       "      <td>91.0</td>\n",
       "      <td>126.000000</td>\n",
       "    </tr>\n",
       "    <tr>\n",
       "      <th>75</th>\n",
       "      <td>90.0</td>\n",
       "      <td>122.000000</td>\n",
       "    </tr>\n",
       "    <tr>\n",
       "      <th>...</th>\n",
       "      <td>...</td>\n",
       "      <td>...</td>\n",
       "    </tr>\n",
       "    <tr>\n",
       "      <th>4</th>\n",
       "      <td>19.0</td>\n",
       "      <td>92.500000</td>\n",
       "    </tr>\n",
       "    <tr>\n",
       "      <th>3</th>\n",
       "      <td>18.0</td>\n",
       "      <td>94.000000</td>\n",
       "    </tr>\n",
       "    <tr>\n",
       "      <th>2</th>\n",
       "      <td>17.0</td>\n",
       "      <td>92.500000</td>\n",
       "    </tr>\n",
       "    <tr>\n",
       "      <th>1</th>\n",
       "      <td>15.0</td>\n",
       "      <td>95.000000</td>\n",
       "    </tr>\n",
       "    <tr>\n",
       "      <th>0</th>\n",
       "      <td>10.0</td>\n",
       "      <td>91.000000</td>\n",
       "    </tr>\n",
       "  </tbody>\n",
       "</table>\n",
       "<p>80 rows × 2 columns</p>\n",
       "</div>"
      ],
      "text/plain": [
       "    audience_rating     runtime\n",
       "79             94.0  107.500000\n",
       "78             93.0  124.333333\n",
       "77             92.0  125.750000\n",
       "76             91.0  126.000000\n",
       "75             90.0  122.000000\n",
       "..              ...         ...\n",
       "4              19.0   92.500000\n",
       "3              18.0   94.000000\n",
       "2              17.0   92.500000\n",
       "1              15.0   95.000000\n",
       "0              10.0   91.000000\n",
       "\n",
       "[80 rows x 2 columns]"
      ]
     },
     "execution_count": 17,
     "metadata": {},
     "output_type": "execute_result"
    }
   ],
   "source": [
    "# Group by audience rating and show average runtime for that rating.\n",
    "\n",
    "average_rating_runtime = bmrt_df.groupby('audience_rating')['runtime'].mean()\n",
    "average_rating_runtime = average_rating_runtime.reset_index()\n",
    "average_rating_runtime = average_rating_runtime.sort_values(by='audience_rating', ascending=False)\n",
    "average_rating_runtime"
   ]
  },
  {
   "cell_type": "code",
   "execution_count": 18,
   "id": "417b7daa",
   "metadata": {},
   "outputs": [
    {
     "data": {
      "image/png": "[encoded data removed]",
      "text/plain": [
       "<Figure size 432x288 with 1 Axes>"
      ]
     },
     "metadata": {
      "needs_background": "light"
     },
     "output_type": "display_data"
    }
   ],
   "source": [
    "# Create the histogram\n",
    "plt.bar(average_rating_runtime['audience_rating'], average_rating_runtime['runtime'], edgecolor='black')\n",
    "\n",
    "# Add labels and title\n",
    "plt.xlabel('Audience Rating')\n",
    "plt.ylabel('Runtime (minutes)')\n",
    "plt.title('Bar Plot of Rating vs. Runtime')\n",
    "\n",
    "# Show the plot\n",
    "plt.show()"
   ]
  },
  {
   "cell_type": "code",
   "execution_count": 19,
   "id": "266f74ac",
   "metadata": {},
   "outputs": [],
   "source": [
    "# Define bins\n",
    "bins = [0, 10, 20, 30, 40, 50, 60, 70, 80, 90, 100]\n",
    "labels = ['0', '10', '20', '30', '40', '50', '60', '70', '80', '90']\n",
    "\n",
    "# Use pd.cut to bin the data\n",
    "average_rating_runtime['range_group'] = pd.Series(pd.cut(average_rating_runtime['audience_rating'], bins=bins, labels=labels, right=False))\n",
    "\n",
    "average_per_bin = average_rating_runtime.groupby('range_group', observed=False)['runtime'].mean()"
   ]
  },
  {
   "cell_type": "code",
   "execution_count": 20,
   "id": "9f425192",
   "metadata": {},
   "outputs": [
    {
     "data": {
      "image/png": "[encoded data removed]",
      "text/plain": [
       "<Figure size 432x288 with 1 Axes>"
      ]
     },
     "metadata": {
      "needs_background": "light"
     },
     "output_type": "display_data"
    }
   ],
   "source": [
    "# Create the histogram\n",
    "plt.bar(average_per_bin.index, average_per_bin, edgecolor='black')\n",
    "\n",
    "plt.xlabel('Audience Rating Group')\n",
    "plt.ylabel('Runtime (minutes)')\n",
    "plt.title('Histogram of Rating vs. Runtime')\n",
    "\n",
    "\n",
    "# Show the plot\n",
    "plt.show()"
   ]
  },
  {
   "cell_type": "code",
   "execution_count": 21,
   "id": "79b644fa",
   "metadata": {},
   "outputs": [],
   "source": [
    "# Get value counts and filter\n",
    "vc = rr_df['publisher_name'].value_counts()\n",
    "rows_to_keep = vc[vc >= 1000].index\n",
    "\n",
    "# Filter the DataFrame\n",
    "rr_df = rr_df[rr_df['publisher_name'].isin(rows_to_keep)]"
   ]
  },
  {
   "cell_type": "code",
   "execution_count": 22,
   "id": "100c2cfa",
   "metadata": {},
   "outputs": [],
   "source": [
    "def letter_to_number(letter):\n",
    "    convert = {\n",
    "        'A+': 1,\n",
    "        'A': .9,\n",
    "        'A-': .8,\n",
    "        'B+': .7,\n",
    "        'B': .6,\n",
    "        'B-': .5,\n",
    "        'C+': .4,\n",
    "        'C': .3,\n",
    "        'C-': .2,\n",
    "        'D+': .1,\n",
    "        'D': 0,\n",
    "        'F': 0\n",
    "    }\n",
    "    return convert.get(letter, np.nan)\n"
   ]
  },
  {
   "cell_type": "code",
   "execution_count": 23,
   "id": "0d2760fc",
   "metadata": {},
   "outputs": [],
   "source": [
    "\n",
    "# This function takes a score and converts it to a number\n",
    "# It can handle letter grades (A, B, C, D, F) and numeric scores\n",
    "# It can also handle scores in the form of 'x/y' where x and y are numbers\n",
    "# It returns a numeric score between 0 and 1\n",
    "\n",
    "def set_fin_score(score):\n",
    "    if score.startswith(('A', 'B', 'C', 'D', 'F')):\n",
    "        fin_score = letter_to_number(score)\n",
    "    else:\n",
    "        if '/' in score:\n",
    "            part1, part2 = score.split('/')\n",
    "            part1 = float(part1)\n",
    "            part2 = float(part2)\n",
    "            if part1 == 0 or part2 == 0:\n",
    "                fin_score = 0\n",
    "            elif part1 > part2:\n",
    "                part1 = part1/10\n",
    "                fin_score = part1 / part2\n",
    "            else:\n",
    "                fin_score = part1 / part2\n",
    "        else:\n",
    "            if float(score) <=10:\n",
    "                fin_score = float(score)/10\n",
    "            else: \n",
    "                fin_score = float(score)/100\n",
    "    return fin_score"
   ]
  },
  {
   "cell_type": "code",
   "execution_count": 24,
   "id": "b631bae4",
   "metadata": {},
   "outputs": [],
   "source": [
    "# Use the function to convert the review_score column\n",
    "\n",
    "rr_df['final_score'] = rr_df['review_score'].apply(set_fin_score)"
   ]
  },
  {
   "cell_type": "code",
   "execution_count": 25,
   "id": "efadbda8",
   "metadata": {},
   "outputs": [
    {
     "data": {
      "text/html": [
       "<div>\n",
       "<style scoped>\n",
       "    .dataframe tbody tr th:only-of-type {\n",
       "        vertical-align: middle;\n",
       "    }\n",
       "\n",
       "    .dataframe tbody tr th {\n",
       "        vertical-align: top;\n",
       "    }\n",
       "\n",
       "    .dataframe thead th {\n",
       "        text-align: right;\n",
       "    }\n",
       "</style>\n",
       "<table border=\"1\" class=\"dataframe\">\n",
       "  <thead>\n",
       "    <tr style=\"text-align: right;\">\n",
       "      <th></th>\n",
       "      <th>publisher_name</th>\n",
       "      <th>final_score</th>\n",
       "    </tr>\n",
       "  </thead>\n",
       "  <tbody>\n",
       "    <tr>\n",
       "      <th>264</th>\n",
       "      <td>Urban Cinefile</td>\n",
       "      <td>0.860000</td>\n",
       "    </tr>\n",
       "    <tr>\n",
       "      <th>41</th>\n",
       "      <td>Cinema Sight</td>\n",
       "      <td>0.770198</td>\n",
       "    </tr>\n",
       "    <tr>\n",
       "      <th>148</th>\n",
       "      <td>Montreal Film Journal</td>\n",
       "      <td>0.764447</td>\n",
       "    </tr>\n",
       "    <tr>\n",
       "      <th>270</th>\n",
       "      <td>Wall Street Journal</td>\n",
       "      <td>0.750000</td>\n",
       "    </tr>\n",
       "    <tr>\n",
       "      <th>86</th>\n",
       "      <td>FILMINK (Australia)</td>\n",
       "      <td>0.735722</td>\n",
       "    </tr>\n",
       "    <tr>\n",
       "      <th>183</th>\n",
       "      <td>Pajiba</td>\n",
       "      <td>0.731579</td>\n",
       "    </tr>\n",
       "    <tr>\n",
       "      <th>31</th>\n",
       "      <td>Capital Times (Madison, WI)</td>\n",
       "      <td>0.728755</td>\n",
       "    </tr>\n",
       "    <tr>\n",
       "      <th>128</th>\n",
       "      <td>Kaplan vs. Kaplan</td>\n",
       "      <td>0.726829</td>\n",
       "    </tr>\n",
       "    <tr>\n",
       "      <th>52</th>\n",
       "      <td>Combustible Celluloid</td>\n",
       "      <td>0.724296</td>\n",
       "    </tr>\n",
       "    <tr>\n",
       "      <th>234</th>\n",
       "      <td>TIME Magazine</td>\n",
       "      <td>0.717391</td>\n",
       "    </tr>\n",
       "    <tr>\n",
       "      <th>172</th>\n",
       "      <td>NewsBlaze</td>\n",
       "      <td>0.716150</td>\n",
       "    </tr>\n",
       "    <tr>\n",
       "      <th>230</th>\n",
       "      <td>Starburst</td>\n",
       "      <td>0.714286</td>\n",
       "    </tr>\n",
       "    <tr>\n",
       "      <th>7</th>\n",
       "      <td>Arizona Daily Star</td>\n",
       "      <td>0.709894</td>\n",
       "    </tr>\n",
       "    <tr>\n",
       "      <th>206</th>\n",
       "      <td>Sacramento Bee</td>\n",
       "      <td>0.709889</td>\n",
       "    </tr>\n",
       "    <tr>\n",
       "      <th>255</th>\n",
       "      <td>Three Movie Buffs</td>\n",
       "      <td>0.709078</td>\n",
       "    </tr>\n",
       "  </tbody>\n",
       "</table>\n",
       "</div>"
      ],
      "text/plain": [
       "                  publisher_name  final_score\n",
       "264               Urban Cinefile     0.860000\n",
       "41                  Cinema Sight     0.770198\n",
       "148        Montreal Film Journal     0.764447\n",
       "270          Wall Street Journal     0.750000\n",
       "86           FILMINK (Australia)     0.735722\n",
       "183                       Pajiba     0.731579\n",
       "31   Capital Times (Madison, WI)     0.728755\n",
       "128            Kaplan vs. Kaplan     0.726829\n",
       "52         Combustible Celluloid     0.724296\n",
       "234                TIME Magazine     0.717391\n",
       "172                    NewsBlaze     0.716150\n",
       "230                    Starburst     0.714286\n",
       "7             Arizona Daily Star     0.709894\n",
       "206               Sacramento Bee     0.709889\n",
       "255            Three Movie Buffs     0.709078"
      ]
     },
     "execution_count": 25,
     "metadata": {},
     "output_type": "execute_result"
    }
   ],
   "source": [
    "# Group by publisher_name and calculate the average final score\n",
    "# and sort the results\n",
    "\n",
    "review_df = rr_df.groupby('publisher_name')['final_score'].mean()\n",
    "review_df = review_df.reset_index()\n",
    "review_df = review_df.sort_values(by='final_score', ascending=False)\n",
    "review_df[0:15]"
   ]
  },
  {
   "cell_type": "code",
   "execution_count": 29,
   "id": "1f8e2280",
   "metadata": {},
   "outputs": [],
   "source": [
    "# Write result2_df to excel for use in Tableau\n",
    "\n",
    "writer = pd.ExcelWriter('zippedData/tableau.xlsx')\n",
    "bmrt_df.to_excel(writer, sheet_name='Sheet1')\n",
    "rr_df.to_excel(writer, sheet_name='Sheet2')\n",
    "writer.close()"
   ]
  },
  {
   "cell_type": "markdown",
   "id": "855f8786",
   "metadata": {},
   "source": [
    "## Results\n",
    "\n",
    "The results show the \"Classics, Comedy, Drama, Romance\" genre has the higest gross profit of all genres. The data also shows the top most profitable movies are of the genre \"Action & Adventure, Science Fiction & Fantasy\"\n",
    "\n",
    "The highest audience rated movies were about 120 minutes in runtime.\n",
    "\n",
    "Critics from these publications gave the highest reviews on average:\n",
    "Cinema Sight, Capital Times (Madison, WI), Combustible Celluloid, and Starburst."
   ]
  },
  {
   "cell_type": "code",
   "execution_count": null,
   "id": "fa6e476e-44c9-4e09-83f2-405020be3ca8",
   "metadata": {},
   "outputs": [],
   "source": []
  }
 ],
 "metadata": {
  "kernelspec": {
   "display_name": "modern",
   "language": "python",
   "name": "modern"
  },
  "language_info": {
   "codemirror_mode": {
    "name": "ipython",
    "version": 3
   },
   "file_extension": ".py",
   "mimetype": "text/x-python",
   "name": "python",
   "nbconvert_exporter": "python",
   "pygments_lexer": "ipython3",
   "version": "3.10.16"
  }
 },
 "nbformat": 4,
 "nbformat_minor": 5
}
